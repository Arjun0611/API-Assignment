{
 "cells": [
  {
   "cell_type": "code",
   "execution_count": 1,
   "id": "cd75d398-28b1-4065-9814-cb57b175cddd",
   "metadata": {},
   "outputs": [
    {
     "data": {
      "text/plain": [
       "'\\n\\nLet\\'s consider an example of a smartphone weather app that provides us with weather information for our city. When we open the app, it shows us the current temperature, weather conditions, and a forecast for the next few days.\\n\\nIn this scenario:\\n\\nThe weather app on our phone is the \"client\" that wants to get weather data.\\nThe server that stores and provides the weather data is the API.\\nThe API acts as a bridge between the weather app (client) and the server. When we open the weather app, it sends a request to the API, asking for weather data. The API then communicates with the server to fetch the required weather information and sends it back to the app.\\n\\nTo simplify, the weather app uses the API as a way to get the weather data it needs without having to know where the data comes from or how it is fetched. The API provides a simple and standardized interface that the app can use to access the weather information.\\n\\nSo, the API allows the weather app to access and display the weather data without knowing the intricacies of how the data is stored or retrieved from the server. It\\'s like a messenger that helps the app communicate with the server and get the weather updates it needs.\\n\\n'"
      ]
     },
     "execution_count": 1,
     "metadata": {},
     "output_type": "execute_result"
    }
   ],
   "source": [
    "#Q1.\n",
    "\n",
    "# An API (Application Programming Interface) is a set of protocols that allows different software applications to communicate and interact with each other. It defines the methods and data formats that applications can use to request and exchange information.\n",
    "\n",
    "\"\"\"\n",
    "\n",
    "Let's consider an example of a smartphone weather app that provides us with weather information for our city. When we open the app, it shows us the current temperature, weather conditions, and a forecast for the next few days.\n",
    "\n",
    "In this scenario:\n",
    "\n",
    "The weather app on our phone is the \"client\" that wants to get weather data.\n",
    "The server that stores and provides the weather data is the API.\n",
    "The API acts as a bridge between the weather app (client) and the server. When we open the weather app, it sends a request to the API, asking for weather data. The API then communicates with the server to fetch the required weather information and sends it back to the app.\n",
    "\n",
    "To simplify, the weather app uses the API as a way to get the weather data it needs without having to know where the data comes from or how it is fetched. The API provides a simple and standardized interface that the app can use to access the weather information.\n",
    "\n",
    "So, the API allows the weather app to access and display the weather data without knowing the intricacies of how the data is stored or retrieved from the server. It's like a messenger that helps the app communicate with the server and get the weather updates it needs.\n",
    "\n",
    "\"\"\""
   ]
  },
  {
   "cell_type": "code",
   "execution_count": 2,
   "id": "34f8cbc2-e08c-4d3f-ba6e-9c1175d872b8",
   "metadata": {},
   "outputs": [],
   "source": [
    "#Q2.\n",
    "\n",
    "#Advantages of using APIs:\n",
    "\n",
    "#1. Simplify integration and save development time.\n",
    "#2. Enhance scalability and enable collaboration with external developers.\n",
    "#3. Improve UX by integrating third-party services.\n",
    "#4. Enhance data security through controlled access to data and functionalities.\n",
    "\n",
    "#Disadvantages of using APIs:\n",
    "\n",
    "#1. Dependency on external APIs can create stability and availabilty concerns.\n",
    "#2. Data privacy risks when sharing sensitive information with external services.\n",
    "#3. API changes and versioning can break application functionality.\n",
    "#4. Performance bottlenecks and reliability issues due to additional network calls."
   ]
  },
  {
   "cell_type": "code",
   "execution_count": 3,
   "id": "6e5baa67-4bd7-4ce9-94d3-7849bb7640d5",
   "metadata": {},
   "outputs": [],
   "source": [
    "#Q3.\n",
    "\n",
    "# A web API, is an API that allows different software systems to communicate and interact with each other over the internet using standard web protocols, such as HTTP and HTTPS.\n",
    "\n",
    "# Difference between API and Web API:\n",
    "\n",
    "# API:\n",
    "\n",
    "#1. An API is a set of protocols that allows different software apps to communicate and interact with each other.\n",
    "#2. APIs can be used in various environments, including desktop, mobile, and server applications.\n",
    "#3. APIs can use different protocols for communication , such as HTTP, TCP/IP, or RPC.\n",
    "\n",
    "# Web API:\n",
    "\n",
    "#1. A Web API is a type of API that is specifically designed to be accessed and used over the internet.\n",
    "#2. Web APIs are typically based on standard web protocols, such as HTTP and HTTPS, making them accessible from any device with an internet connection.\n",
    "#3. Web APIs are commonly used to expose specific functionalities and data from web applications and services to external clients and applications."
   ]
  },
  {
   "cell_type": "code",
   "execution_count": 4,
   "id": "0eae55ea-a6ef-400c-a84b-ab565371be28",
   "metadata": {},
   "outputs": [],
   "source": [
    "#Q4.\n",
    "\n",
    "#REST (Representational State Transfer) Architecture\n",
    "\n",
    "#1. Lightweight and simple\n",
    "#2. Uses standard HTTP methods and URLs\n",
    "#3. Stateless communication\n",
    "#4. Data sent in JSON or XML format\n",
    "#5. Scalable and easy to maintain\n",
    "\n",
    "#SOAP (Simple Object Access Protocol) Architecture\n",
    "\n",
    "#1. Protocol-based\n",
    "#2. Uses XML messages\n",
    "#3. Defines own rules and specifications\n",
    "#4. Stateful communicaiton\n",
    "#5. More secure with built-in features.\n",
    "#6. Messages are usually transported using HTTP, SMTP, or TCP.\n",
    "\n",
    "#Shortcomings of SOAP:\n",
    "\n",
    "#1. Complexity of XML messages\n",
    "#2. Significant overhead in message size\n",
    "#3. Impact on performance\n",
    "#4. Limited platform and language support"
   ]
  },
  {
   "cell_type": "code",
   "execution_count": 5,
   "id": "430a8100-9dd2-4a67-ba7e-952f2a7fa394",
   "metadata": {},
   "outputs": [],
   "source": [
    "#Q5.\n",
    "\n",
    "#REST:\n",
    "\n",
    "#Lightweight, simple architecture.\n",
    "#Uses standard HTTP methods (GET, POST, PUT, DELETE) and URLs.\n",
    "#Stateless communication (each request is independent).\n",
    "#Data exchanged in JSON or XML format.\n",
    "#Scalable and easy to maintain.\n",
    "#Suitable for mobile and web applications.\n",
    "\n",
    "#SOAP:\n",
    "\n",
    "#Protocol-based architecture.\n",
    "#Uses XML messages with specific rules and specifications.\n",
    "#Stateful communication (requests and responses are related).\n",
    "#More secure with built-in features like WS-Security.\n",
    "#Typically used in enterprise-level applications and integration scenarios.\n",
    "#May have higher overhead due to XML message size."
   ]
  },
  {
   "cell_type": "code",
   "execution_count": null,
   "id": "96e3d037-235d-4fd0-9564-818d1336f99e",
   "metadata": {},
   "outputs": [],
   "source": []
  }
 ],
 "metadata": {
  "kernelspec": {
   "display_name": "Python 3 (ipykernel)",
   "language": "python",
   "name": "python3"
  },
  "language_info": {
   "codemirror_mode": {
    "name": "ipython",
    "version": 3
   },
   "file_extension": ".py",
   "mimetype": "text/x-python",
   "name": "python",
   "nbconvert_exporter": "python",
   "pygments_lexer": "ipython3",
   "version": "3.10.8"
  }
 },
 "nbformat": 4,
 "nbformat_minor": 5
}
